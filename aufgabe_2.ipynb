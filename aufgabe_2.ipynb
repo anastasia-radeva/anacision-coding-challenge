{
 "cells": [
  {
   "cell_type": "markdown",
   "id": "8c8b42d3-d2f2-48b3-99f9-91f72800bd98",
   "metadata": {},
   "source": [
    "Aufgabenstellung: \n",
    "\n",
    "Bitte schreibe eine robuste, wartbare, und erweiterbare Kommandozeilenanwendung, mit der man CSV Dateien anzeigen kann. Die Anzeige soll im Terminal stattfinden, es ist kein GUI notwendig. In unserem Termin bitte wir dich, das Vorgehen und deine App vorzustellen. Bitte keine PowerPoint Folien erstellen, die Vorstellung des Codes in der IDE genügt.\n",
    " \n",
    "Im Nachgang erhältst du ein Beispiel für eine Datei („Personen.csv“). Nutze sie gerne für die Implementierung und die Vorstellung deiner Umsetzung.\n",
    " \n",
    "Die Logik der Anwendung ist simpel: Sie ruft eine CSV Datei auf, die dann angezeigt werden soll. Bei Aufruf soll die Datei per Argument spezifiziert werden können.\n",
    " \n",
    "Die Anzeige soll folgenden Anforderungen entsprechen:\n",
    "- Jede Seite wird mit Spaltenüberschriften ausgegeben\n",
    "- Jede Seite besteht aus 10 Dateneinträgen (Zeilen)\n",
    "- Es gibt Zellenseparierungzeichen (Genau wie im Beispiel)\n",
    "- Die Spalten haben eine feste Breite, die dem längsten Eintrag je Spalte entspricht\n",
    "- Durch Drücken der Tasten F/P/N/L/E werden die im Beispiel gezeigten Befehle ausgeführt (Hierfür kannst du z.B. den input() Befehl benutzen)\n",
    "\n",
    "Die einzelnen Seiten werden als Tabelle mit Überschrift und Zellenmarkierung dargestellt. Du kannst davon ausgegangen, dass die CSV Dateien wie folgt aussehen:\n",
    "- Die erste Zeile enthält die Überschriften\n",
    "- Die Spalten sind durch “;“ getrennt, die Kodierung ist utf-8\n",
    "- Eine neue Zeile ist durch einen Zeilenumbruch codiert, andere Zeilenumbrüche gibt es nicht"
   ]
  },
  {
   "cell_type": "code",
   "execution_count": null,
   "id": "d74ecb72-49eb-4f68-a361-63c9e53ae43f",
   "metadata": {},
   "outputs": [],
   "source": [
    "import csv\n",
    "import os\n",
    "import pandas as pd"
   ]
  },
  {
   "cell_type": "code",
   "execution_count": null,
   "id": "da920f89-8e45-4a53-abc0-da265e7d10ec",
   "metadata": {},
   "outputs": [],
   "source": [
    "# data preview, so we know what to expect\n",
    "people = pd.read_csv('people.csv', delimiter=';', encoding='utf-8')\n",
    "people.head()\n",
    "print(people[0:10].to_string(index=False))\n",
    "print(len(people))"
   ]
  },
  {
   "cell_type": "code",
   "execution_count": null,
   "id": "087e7572-1a18-4ecd-aa22-8dcb4dc77a04",
   "metadata": {},
   "outputs": [],
   "source": [
    "class CSVReader:\n",
    "    def __init__(self, filename):\n",
    "        # dunder method for object-oriented implementation\n",
    "        # constructor of the class, automatically gets called when new instance of the class created \n",
    "        # initialize the CSVReader with a given filename\n",
    "        self.filename = filename\n",
    "         # load data from the specified file into a DataFrame\n",
    "        self.data = pd.read_csv(self.filename, delimiter=';', encoding='utf-8')\n",
    "        self.page = 0\n",
    "\n",
    "    def display_page(self):\n",
    "        # display the current page of data\n",
    "        start = self.page * 10\n",
    "        end = start + 10\n",
    "        print(self.data[start:end].to_string(index=False))  # print DataFrame slice as string\n",
    "        print()\n",
    "        print(\"\\033[94mF)irst page, P)revious page, N)ext page, L)ast page, E)xit!\\033[0m\")\n",
    "\n",
    "    \n",
    "    # F)irst page\n",
    "    def first_page(self):\n",
    "        # define go to the first page action\n",
    "        self.page = 0\n",
    "        self.display_page()\n",
    "\n",
    "     # P)revious page\n",
    "    def previous_page(self):\n",
    "        # define go to previous page action (if not on the first page)\n",
    "        if self.page > 0:\n",
    "            self.page -= 1\n",
    "        else:\n",
    "            print()\n",
    "            print(\"\\033[91mYou are on the first page. Please choose another command!\\033[0m\")\n",
    "            print()\n",
    "        self.display_page()\n",
    "         \n",
    "    # N)ext page\n",
    "    def next_page(self):\n",
    "        # define go to next page action (if available) \n",
    "        # consider two cases for number of pages\n",
    "        if ((len(self.data) % 10 == 0 and self.page < len(self.data) // 10 - 1) or (len(self.data) % 10 != 0 and self.page < len(self.data) // 10)):\n",
    "            self.page += 1\n",
    "        else:\n",
    "            print()\n",
    "            print(\"\\033[91mYou have reached the last page. Please choose another command!\\033[0m\")\n",
    "            print()\n",
    "        self.display_page()\n",
    "        \n",
    "    # L)ast page\n",
    "    def last_page(self):\n",
    "        # define go to the last page action\n",
    "        if len(self.data)%10 == 0:\n",
    "            self.page = len(self.data) // 10 - 1 # 10 people per page, - 1, because it starts with 0\n",
    "        else: # if number of pages not divisible by 10, show the last not full page\n",
    "            self.page = len(self.data) // 10\n",
    "        self.display_page()         \n",
    "             \n",
    "             \n",
    "    def run(self):\n",
    "        # load data and display the initial page\n",
    "        self.display_page()\n",
    "        while True:\n",
    "            command = input()  # get user's input\n",
    "            if command.lower() == 'f':\n",
    "                self.first_page()  # action upon 'F' or 'f' command\n",
    "            elif command.lower() == 'p':\n",
    "                self.previous_page()  # action upon 'P' or 'p' command\n",
    "            elif command.lower() == 'n':\n",
    "                self.next_page()  # action upon 'N' or 'n' command\n",
    "            elif command.lower() == 'l':\n",
    "                self.last_page()  # action upon 'L' or 'l' command\n",
    "            elif command.lower() == 'e':\n",
    "                break  # exit the loop if 'E' or 'e' command is entered\n"
   ]
  },
  {
   "cell_type": "code",
   "execution_count": null,
   "id": "6330a63f-75d4-4716-aa34-1e05c9c34bd2",
   "metadata": {
    "scrolled": true
   },
   "outputs": [],
   "source": [
    "# every script has a __name__ variable, whis is set to __main__, when the script is run Wenn Sie ein Python-Skript direkt ausführen (zum Beispiel mit python myscript.py), dann wird die Variable __name__ auf den Wert \"__main__\" gesetzt. Wenn das Skript jedoch als Modul importiert wird (zum Beispiel mit import myscript), dann wird __name__ auf den Namen des Skripts/Moduls gesetzt (in diesem Fall \"myscript\").\n",
    "# only do this, if this block is being run and not imported as module\n",
    "if __name__ == \"__main__\":\n",
    "    filename = input(\"Please state the path to the file you want to read: \")\n",
    "    print()\n",
    "    reader = CSVReader(filename) # new CSVReader object with filename as input, run __init__ method\n",
    "    reader.run()\n"
   ]
  }
 ],
 "metadata": {
  "kernelspec": {
   "display_name": "anacisionA2",
   "language": "python",
   "name": "anacisiona2"
  },
  "language_info": {
   "codemirror_mode": {
    "name": "ipython",
    "version": 3
   },
   "file_extension": ".py",
   "mimetype": "text/x-python",
   "name": "python",
   "nbconvert_exporter": "python",
   "pygments_lexer": "ipython3",
   "version": "3.12.2"
  }
 },
 "nbformat": 4,
 "nbformat_minor": 5
}
